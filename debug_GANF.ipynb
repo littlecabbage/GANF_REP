{
 "cells": [
  {
   "cell_type": "markdown",
   "metadata": {},
   "source": [
    "# Model Define"
   ]
  },
  {
   "cell_type": "code",
   "execution_count": 10,
   "metadata": {},
   "outputs": [],
   "source": [
    "\n",
    "#%%\n",
    "import torch.nn as nn\n",
    "import torch.nn.functional as F\n",
    "from models.NF import MAF, RealNVP\n",
    "import torch\n",
    "\n",
    "class GNN(nn.Module):\n",
    "    \"\"\"\n",
    "    The GNN module applied in GANF\n",
    "    \"\"\"\n",
    "    def __init__(self, input_size, hidden_size):\n",
    "\n",
    "        super(GNN, self).__init__()\n",
    "        self.lin_n = nn.Linear(input_size, hidden_size)\n",
    "        self.lin_r = nn.Linear(input_size, hidden_size, bias=False)\n",
    "        self.lin_2 = nn.Linear(hidden_size, hidden_size)\n",
    "\n",
    "    def forward(self, h, A):\n",
    "        ## A: K X K\n",
    "        ## H: N X K  X L X D\n",
    "\n",
    "        h_n = self.lin_n(torch.einsum('nkld,kj->njld',h,A))\n",
    "        h_r = self.lin_r(h[:,:,:-1])\n",
    "        h_n[:,:,1:] += h_r\n",
    "        h = self.lin_2(F.relu(h_n))\n",
    "\n",
    "        return h\n",
    "\n",
    "\n",
    "class GANF(nn.Module):\n",
    "\n",
    "    def __init__ (self, n_blocks, input_size, hidden_size, n_hidden ,dropout = 0.1, model=\"MAF\", batch_norm=True):\n",
    "        super(GANF, self).__init__()\n",
    "\n",
    "        self.rnn = nn.LSTM(input_size=input_size,hidden_size=hidden_size,batch_first=True, dropout=dropout)\n",
    "        self.gcn = GNN(input_size=hidden_size, hidden_size=hidden_size)\n",
    "        if model==\"MAF\":\n",
    "            self.nf = MAF(n_blocks, input_size, hidden_size, n_hidden, cond_label_size=hidden_size, batch_norm=batch_norm,activation='tanh')\n",
    "        else:\n",
    "            self.nf = RealNVP(n_blocks, input_size, hidden_size, n_hidden, cond_label_size=hidden_size, batch_norm=batch_norm)\n",
    "\n",
    "    def forward(self, x, A):\n",
    "\n",
    "        return self.test(x, A).mean()\n",
    "\n",
    "    def test(self, x, A):\n",
    "        # x: N X K X L X D: example: [512, 44, 60, 1]\n",
    "        full_shape = x.shape\n",
    "        print(f\"> x Input: {x.shape}\")\n",
    "\n",
    "        # reshape: N*K, L, D\n",
    "        x = x.reshape((x.shape[0]*x.shape[1], x.shape[2], x.shape[3]))\n",
    "        h,_ = self.rnn(x)\n",
    "        print(f'''> h,_ = self.rnn(x)\n",
    "        input x reshaped: x = x.reshape((x.shape[0]*x.shape[1], x.shape[2], x.shape[3]))\n",
    "        x.shape: {x.shape}\n",
    "        h.shape: {h.shape}\n",
    "        ''')\n",
    "\n",
    "        # resahpe: N, K, L, H\n",
    "        h = h.reshape((full_shape[0], full_shape[1], h.shape[1], h.shape[2]))\n",
    "        print(f'''> h = h.reshape((full_shape[0], full_shape[1], h.shape[1], h.shape[2]))\n",
    "        h.shape:{h.shape}\n",
    "        ''')\n",
    "\n",
    "\n",
    "        h = self.gcn(h, A)\n",
    "        print(f'''> h = self.gcn(h, A)\n",
    "        input h:{h.shape}, A {A.shape}\n",
    "        output h{h.shape}\n",
    "        ''')\n",
    "\n",
    "        # reshappe N*K*L,H\n",
    "        h = h.reshape((-1,h.shape[3]))\n",
    "        x = x.reshape((-1,full_shape[3]))\n",
    "\n",
    "        print(f'''\n",
    "        > h = h.reshape((-1,h.shape[3]))\n",
    "        > x = x.reshape((-1,full_shape[3]))\n",
    "        h.shape: {h.shape}\n",
    "        x.shape: {x.shape}\n",
    "        ''')\n",
    "\n",
    "        tmp_rst = self.nf.log_prob(x,h)\n",
    "        log_prob = tmp_rst.reshape([full_shape[0],-1])#*full_shape[1]*full_shape[2]\n",
    "        print(f'''\n",
    "        > log_prob = self.nf.log_prob(x,h).reshape([full_shape[0],-1])\n",
    "            self.nf.log_prob(x,h) = {tmp_rst.shape}\n",
    "          log_prob = {log_prob.shape}\n",
    "        ''')\n",
    "        \n",
    "        log_prob = log_prob.mean(dim=1)\n",
    "        print(f'''\n",
    "        > log_prob = log_prob.mean(dim=1)\n",
    "        log_prob = {log_prob.shape}\n",
    "        ''')\n",
    "\n",
    "        return log_prob\n",
    "    \n",
    "    def locate(self, x, A):\n",
    "        # x: N X K X L X D \n",
    "        full_shape = x.shape\n",
    "\n",
    "        # reshape: N*K, L, D\n",
    "        x = x.reshape((x.shape[0]*x.shape[1], x.shape[2], x.shape[3]))\n",
    "        h,_ = self.rnn(x)\n",
    "\n",
    "        # resahpe: N, K, L, H\n",
    "        h = h.reshape((full_shape[0], full_shape[1], h.shape[1], h.shape[2]))\n",
    "\n",
    "\n",
    "        h = self.gcn(h, A)\n",
    "\n",
    "        # reshappe N*K*L,H\n",
    "        h = h.reshape((-1,h.shape[3]))\n",
    "        x = x.reshape((-1,full_shape[3]))\n",
    "\n",
    "        log_prob = self.nf.log_prob(x,h).reshape([full_shape[0],full_shape[1],-1])#*full_shape[1]*full_shape[2]\n",
    "        log_prob = log_prob.mean(dim=2)\n",
    "\n",
    "        return log_prob\n"
   ]
  },
  {
   "cell_type": "markdown",
   "metadata": {},
   "source": [
    "# test GANF"
   ]
  },
  {
   "cell_type": "code",
   "execution_count": 11,
   "metadata": {},
   "outputs": [],
   "source": [
    "# GANF n_blocks:  1 \n",
    "# GANF input_size:  1 \n",
    "# GANF hidden_size:  32 \n",
    "# GANF n_hidden:  1\n",
    "\n",
    "\n",
    "ganf =  GANF(1, 1, 32, 1, dropout=0.0, batch_norm=False) # default batch_norma = False"
   ]
  },
  {
   "cell_type": "code",
   "execution_count": 12,
   "metadata": {},
   "outputs": [
    {
     "name": "stdout",
     "output_type": "stream",
     "text": [
      "GANF(\n",
      "  (rnn): LSTM(1, 32, batch_first=True)\n",
      "  (gcn): GNN(\n",
      "    (lin_n): Linear(in_features=32, out_features=32, bias=True)\n",
      "    (lin_r): Linear(in_features=32, out_features=32, bias=False)\n",
      "    (lin_2): Linear(in_features=32, out_features=32, bias=True)\n",
      "  )\n",
      "  (nf): MAF(\n",
      "    (net): FlowSequential(\n",
      "      (0): MADE(\n",
      "        (net_input): MaskedLinear(in_features=1, out_features=32, bias=True, cond_features=32)\n",
      "        (net): Sequential(\n",
      "          (0): Tanh()\n",
      "          (1): MaskedLinear(in_features=32, out_features=32, bias=True)\n",
      "          (2): Tanh()\n",
      "          (3): MaskedLinear(in_features=32, out_features=2, bias=True)\n",
      "        )\n",
      "      )\n",
      "    )\n",
      "  )\n",
      ")\n"
     ]
    }
   ],
   "source": [
    "print(ganf)"
   ]
  },
  {
   "cell_type": "code",
   "execution_count": 13,
   "metadata": {},
   "outputs": [
    {
     "name": "stdout",
     "output_type": "stream",
     "text": [
      "> x Input: torch.Size([512, 44, 60, 1])\n",
      "> h,_ = self.rnn(x)\n",
      "        input x reshaped: x = x.reshape((x.shape[0]*x.shape[1], x.shape[2], x.shape[3]))\n",
      "        x.shape: torch.Size([22528, 60, 1])\n",
      "        h.shape: torch.Size([22528, 60, 32])\n",
      "        \n",
      "> h = h.reshape((full_shape[0], full_shape[1], h.shape[1], h.shape[2]))\n",
      "        h.shape:torch.Size([512, 44, 60, 32])\n",
      "        \n",
      "> h = self.gcn(h, A)\n",
      "        input h:torch.Size([512, 44, 60, 32]), A torch.Size([44, 44])\n",
      "        output htorch.Size([512, 44, 60, 32])\n",
      "        \n",
      "\n",
      "        > h = h.reshape((-1,h.shape[3]))\n",
      "        > x = x.reshape((-1,full_shape[3]))\n",
      "        h.shape: torch.Size([1351680, 32])\n",
      "        x.shape: torch.Size([1351680, 1])\n",
      "        \n",
      "\n",
      "        > log_prob = self.nf.log_prob(x,h).reshape([full_shape[0],-1])\n",
      "            self.nf.log_prob(x,h) = torch.Size([1351680])\n",
      "          log_prob = torch.Size([512, 2640])\n",
      "        \n",
      "\n",
      "        > log_prob = log_prob.mean(dim=1)\n",
      "        log_prob = torch.Size([512])\n",
      "        \n"
     ]
    }
   ],
   "source": [
    "x = torch.zeros([512, 44, 60, 1])\n",
    "A = torch.zeros([44,44])\n",
    "\n",
    "# print(x, A)\n",
    "loss = ganf(x,  A)"
   ]
  },
  {
   "cell_type": "code",
   "execution_count": 14,
   "metadata": {},
   "outputs": [
    {
     "data": {
      "text/plain": [
       "tensor(-0.9350, grad_fn=<MeanBackward0>)"
      ]
     },
     "execution_count": 14,
     "metadata": {},
     "output_type": "execute_result"
    }
   ],
   "source": [
    "loss"
   ]
  },
  {
   "cell_type": "code",
   "execution_count": 20,
   "metadata": {},
   "outputs": [
    {
     "name": "stderr",
     "output_type": "stream",
     "text": [
      "/root/zengzihui/ISST/GANF/dataset.py:77: SettingWithCopyWarning: \n",
      "A value is trying to be set on a copy of a slice from a DataFrame\n",
      "\n",
      "See the caveats in the documentation: https://pandas.pydata.org/pandas-docs/stable/user_guide/indexing.html#returning-a-view-versus-a-copy\n",
      "  data.label[data.label!=\"Normal\"]=1\n",
      "/root/zengzihui/ISST/GANF/dataset.py:78: SettingWithCopyWarning: \n",
      "A value is trying to be set on a copy of a slice from a DataFrame\n",
      "\n",
      "See the caveats in the documentation: https://pandas.pydata.org/pandas-docs/stable/user_guide/indexing.html#returning-a-view-versus-a-copy\n",
      "  data.label[data.label==\"Normal\"]=0\n"
     ]
    }
   ],
   "source": [
    "from dataset import load_water\n",
    "\n",
    "train_loader, val_loader, test_loader, n_sensor = load_water('/root/zengzihui/ISST/GANF/data/SWaT_Dataset_Attack_v0.csv', 512)"
   ]
  },
  {
   "cell_type": "code",
   "execution_count": 26,
   "metadata": {},
   "outputs": [],
   "source": [
    "from sklearn.metrics import roc_auc_score\n",
    "import numpy as np\n",
    "\n",
    "# roc_val = roc_auc_score(np.asarray(val_loader.dataset.label.values,dtype=int),loss_val)\n",
    "# roc_test = roc_auc_score(np.asarray(test_loader.dataset.label.values,dtype=int),loss_test)\n",
    "\n",
    "tmp = np.asarray(val_loader.dataset.label.values,dtype=int)\n",
    "# len(val_loader.dataset.label.to_list())"
   ]
  },
  {
   "cell_type": "code",
   "execution_count": 29,
   "metadata": {},
   "outputs": [
    {
     "data": {
      "text/plain": [
       "(225,)"
      ]
     },
     "execution_count": 29,
     "metadata": {},
     "output_type": "execute_result"
    }
   ],
   "source": [
    "tmp[tmp == 1].shape"
   ]
  },
  {
   "cell_type": "code",
   "execution_count": null,
   "metadata": {},
   "outputs": [],
   "source": []
  }
 ],
 "metadata": {
  "interpreter": {
   "hash": "c337f211ff313312c098220ab9601224a977cb1f4b25ff3b38adb39751bc68de"
  },
  "kernelspec": {
   "display_name": "Python 3.8.12 ('GANF')",
   "language": "python",
   "name": "python3"
  },
  "language_info": {
   "codemirror_mode": {
    "name": "ipython",
    "version": 3
   },
   "file_extension": ".py",
   "mimetype": "text/x-python",
   "name": "python",
   "nbconvert_exporter": "python",
   "pygments_lexer": "ipython3",
   "version": "3.8.12"
  },
  "orig_nbformat": 4
 },
 "nbformat": 4,
 "nbformat_minor": 2
}
