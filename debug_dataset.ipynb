{
 "cells": [
  {
   "cell_type": "code",
   "execution_count": 1,
   "metadata": {},
   "outputs": [],
   "source": [
    "import pandas as pd\n",
    "import torch\n",
    "from torch.utils.data import Dataset\n",
    "import numpy as np\n",
    "\n",
    "from torch.utils.data import DataLoader"
   ]
  },
  {
   "cell_type": "markdown",
   "metadata": {},
   "source": [
    "# Class Water"
   ]
  },
  {
   "cell_type": "code",
   "execution_count": 12,
   "metadata": {},
   "outputs": [],
   "source": [
    "\n",
    "class Water(Dataset):\n",
    "    def __init__(self, df, label, window_size=60, stride_size=10):\n",
    "        super(Water, self).__init__()\n",
    "        self.df = df\n",
    "        self.window_size = window_size\n",
    "        self.stride_size = stride_size\n",
    "\n",
    "        self.data, self.idx, self.label = self.preprocess(df,label)\n",
    "    \n",
    "    def preprocess(self, df, label):\n",
    "\n",
    "        start_idx = np.arange(0,len(df)-self.window_size,self.stride_size)\n",
    "        end_idx = np.arange(self.window_size, len(df), self.stride_size)\n",
    "\n",
    "        delat_time =  df.index[end_idx]-df.index[start_idx]\n",
    "        idx_mask = delat_time==pd.Timedelta(self.window_size,unit='s')\n",
    "\n",
    "        return df.values, start_idx[idx_mask], label[start_idx[idx_mask]]\n",
    "\n",
    "    def __len__(self):\n",
    "\n",
    "        length = len(self.idx)\n",
    "\n",
    "        return length\n",
    "\n",
    "    def __getitem__(self, index):\n",
    "        #  N X K X L X D \n",
    "        start = self.idx[index]\n",
    "        end = start + self.window_size\n",
    "        data = self.data[start:end].reshape([self.window_size,-1, 1])\n",
    "        \n",
    "        print(f\"data[start: end].shape: {self.data[start:end].shape}\")\n",
    "        print(f\"Reshaped data.shape: {data.shape}\")\n",
    "        \n",
    "        return torch.FloatTensor(data).transpose(0,1)\n",
    "\n"
   ]
  },
  {
   "cell_type": "markdown",
   "metadata": {},
   "source": [
    "# load water"
   ]
  },
  {
   "cell_type": "code",
   "execution_count": 3,
   "metadata": {},
   "outputs": [],
   "source": [
    "root = '/root/zengzihui/ISST/GANF/data/SWaT_Dataset_Attack_v0.csv'\n",
    "batch_size = 512"
   ]
  },
  {
   "cell_type": "code",
   "execution_count": 4,
   "metadata": {},
   "outputs": [
    {
     "name": "stderr",
     "output_type": "stream",
     "text": [
      "/tmp/ipykernel_18113/1678394943.py:3: SettingWithCopyWarning: \n",
      "A value is trying to be set on a copy of a slice from a DataFrame\n",
      "\n",
      "See the caveats in the documentation: https://pandas.pydata.org/pandas-docs/stable/user_guide/indexing.html#returning-a-view-versus-a-copy\n",
      "  data.label[data.label!=\"Normal\"]=1\n",
      "/tmp/ipykernel_18113/1678394943.py:4: SettingWithCopyWarning: \n",
      "A value is trying to be set on a copy of a slice from a DataFrame\n",
      "\n",
      "See the caveats in the documentation: https://pandas.pydata.org/pandas-docs/stable/user_guide/indexing.html#returning-a-view-versus-a-copy\n",
      "  data.label[data.label==\"Normal\"]=0\n"
     ]
    }
   ],
   "source": [
    "data = pd.read_csv(root)\n",
    "data = data.rename(columns={\"Normal/Attack\":\"label\"})\n",
    "data.label[data.label!=\"Normal\"]=1\n",
    "data.label[data.label==\"Normal\"]=0\n",
    "data[\"Timestamp\"] = pd.to_datetime(data[\"Timestamp\"])\n",
    "data = data.set_index(\"Timestamp\")"
   ]
  },
  {
   "cell_type": "code",
   "execution_count": 5,
   "metadata": {},
   "outputs": [],
   "source": [
    "feature = data.iloc[:,:51]\n",
    "mean_df = feature.mean(axis=0)\n",
    "std_df = feature.std(axis=0)\n",
    "\n",
    "norm_feature = (feature-mean_df)/std_df\n",
    "norm_feature = norm_feature.dropna(axis=1)\n",
    "n_sensor = len(norm_feature.columns)"
   ]
  },
  {
   "cell_type": "code",
   "execution_count": 6,
   "metadata": {},
   "outputs": [
    {
     "name": "stdout",
     "output_type": "stream",
     "text": [
      "feature_df:  (449919, 51) mean_df:  (51,) std_df:  (51,) NA_normal_df:  (449919, 51) norma_df:  (449919, 44)\n"
     ]
    }
   ],
   "source": [
    "print(\"feature_df: \",feature.shape,\n",
    "\"mean_df: \", mean_df.shape,\n",
    "\"std_df: \",  std_df.shape,\n",
    "\"NA_normal_df: \", ((feature-mean_df)/std_df).shape,\n",
    "\"norma_df: \", norm_feature.shape)"
   ]
  },
  {
   "cell_type": "code",
   "execution_count": 7,
   "metadata": {},
   "outputs": [],
   "source": [
    "train_df = norm_feature.iloc[:int(0.6*len(data))]\n",
    "train_label = data.label.iloc[:int(0.6*len(data))]\n",
    "\n",
    "val_df = norm_feature.iloc[int(0.6*len(data)):int(0.8*len(data))]\n",
    "val_label = data.label.iloc[int(0.6*len(data)):int(0.8*len(data))]\n",
    "\n",
    "test_df = norm_feature.iloc[int(0.8*len(data)):]\n",
    "test_label = data.label.iloc[int(0.8*len(data)):]"
   ]
  },
  {
   "cell_type": "code",
   "execution_count": 8,
   "metadata": {},
   "outputs": [
    {
     "name": "stdout",
     "output_type": "stream",
     "text": [
      "train_df:  (269951, 44) val_df:  (89984, 44) test_df:  (89984, 44)\n"
     ]
    }
   ],
   "source": [
    "print(\"train_df: \",train_df.shape,\n",
    "\"val_df: \", val_df.shape,\n",
    "\"test_df: \",  test_df.shape)"
   ]
  },
  {
   "cell_type": "code",
   "execution_count": 9,
   "metadata": {},
   "outputs": [
    {
     "data": {
      "text/plain": [
       "(89984,)"
      ]
     },
     "execution_count": 9,
     "metadata": {},
     "output_type": "execute_result"
    }
   ],
   "source": [
    "test_label.shape"
   ]
  },
  {
   "cell_type": "code",
   "execution_count": 10,
   "metadata": {},
   "outputs": [],
   "source": [
    "train_loader = DataLoader(Water(train_df,train_label), batch_size=batch_size, shuffle=True)"
   ]
  },
  {
   "cell_type": "code",
   "execution_count": 11,
   "metadata": {},
   "outputs": [
    {
     "data": {
      "text/plain": [
       "26990"
      ]
     },
     "execution_count": 11,
     "metadata": {},
     "output_type": "execute_result"
    }
   ],
   "source": [
    "Water(train_df,train_label).__len__()"
   ]
  },
  {
   "cell_type": "markdown",
   "metadata": {},
   "source": [
    "# Water shape"
   ]
  },
  {
   "cell_type": "code",
   "execution_count": 12,
   "metadata": {},
   "outputs": [
    {
     "name": "stdout",
     "output_type": "stream",
     "text": [
      "++++++++++0\n",
      "data[start: end].shape: (60, 44)\n",
      "Reshaped data.shape: (60, 44, 1)\n",
      "torch.Size([44, 60, 1])\n",
      "++++++++++1\n",
      "data[start: end].shape: (60, 44)\n",
      "Reshaped data.shape: (60, 44, 1)\n",
      "torch.Size([44, 60, 1])\n"
     ]
    }
   ],
   "source": [
    "for i in range(2):\n",
    "    print(f'++++++++++{i}')\n",
    "    # temp = Water(train_df, train_label)._ \n",
    "    print(Water(train_df, train_label).__getitem__(i).shape)"
   ]
  },
  {
   "cell_type": "code",
   "execution_count": 30,
   "metadata": {},
   "outputs": [],
   "source": [
    "temp = Water(train_df, train_label)"
   ]
  },
  {
   "cell_type": "code",
   "execution_count": 45,
   "metadata": {},
   "outputs": [
    {
     "data": {
      "text/plain": [
       "(269951,)"
      ]
     },
     "execution_count": 45,
     "metadata": {},
     "output_type": "execute_result"
    }
   ],
   "source": [
    "train_label.shape"
   ]
  },
  {
   "cell_type": "code",
   "execution_count": 46,
   "metadata": {},
   "outputs": [
    {
     "data": {
      "text/plain": [
       "(269951, 44)"
      ]
     },
     "execution_count": 46,
     "metadata": {},
     "output_type": "execute_result"
    }
   ],
   "source": [
    "train_df.shape"
   ]
  },
  {
   "cell_type": "code",
   "execution_count": 43,
   "metadata": {},
   "outputs": [
    {
     "name": "stdout",
     "output_type": "stream",
     "text": [
      "(269951, 44)\n",
      "[     0     10     20 ... 269870 269880 269890]\n",
      "(26990,)\n"
     ]
    }
   ],
   "source": [
    "print(temp.data.shape) \n",
    "print(temp.idx)\n",
    "print(temp.label.shape)"
   ]
  },
  {
   "cell_type": "markdown",
   "metadata": {},
   "source": [
    "# Water Item Label"
   ]
  },
  {
   "cell_type": "code",
   "execution_count": 16,
   "metadata": {},
   "outputs": [],
   "source": [
    "item  = Water(train_df, train_label)"
   ]
  },
  {
   "cell_type": "code",
   "execution_count": 20,
   "metadata": {},
   "outputs": [
    {
     "data": {
      "text/plain": [
       "Timestamp\n",
       "2015-12-28 10:00:00    0\n",
       "2015-12-28 10:00:10    0\n",
       "2015-12-28 10:00:20    0\n",
       "2015-12-28 10:00:30    0\n",
       "2015-12-28 10:00:40    0\n",
       "                      ..\n",
       "2015-12-31 12:57:30    0\n",
       "2015-12-31 12:57:40    0\n",
       "2015-12-31 12:57:50    0\n",
       "2015-12-31 12:58:00    0\n",
       "2015-12-31 12:58:10    0\n",
       "Name: label, Length: 26990, dtype: object"
      ]
     },
     "execution_count": 20,
     "metadata": {},
     "output_type": "execute_result"
    }
   ],
   "source": [
    "item.label"
   ]
  },
  {
   "cell_type": "markdown",
   "metadata": {},
   "source": [
    "# get ALL dataset"
   ]
  },
  {
   "cell_type": "code",
   "execution_count": 5,
   "metadata": {},
   "outputs": [],
   "source": [
    "from get_all_dataset import load_water\n",
    "import pandas as pd"
   ]
  },
  {
   "cell_type": "code",
   "execution_count": 28,
   "metadata": {},
   "outputs": [],
   "source": [
    "train_path = \"/root/zengzihui/ISST/GANF/data/SWaT_Dataset_Normal_v1.csv\"\n",
    "test_path = \"/root/zengzihui/ISST/GANF/data/SWaT_Dataset_Attack_v0.csv\"\n",
    "\n",
    "train_data = pd.read_csv(train_path)\n",
    "test_data = pd.read_csv(test_path)"
   ]
  },
  {
   "cell_type": "code",
   "execution_count": 29,
   "metadata": {},
   "outputs": [
    {
     "data": {
      "text/plain": [
       "array(['Normal', 'Attack'], dtype=object)"
      ]
     },
     "execution_count": 29,
     "metadata": {},
     "output_type": "execute_result"
    }
   ],
   "source": [
    "test_data['Normal/Attack'].unique()"
   ]
  },
  {
   "cell_type": "code",
   "execution_count": 30,
   "metadata": {},
   "outputs": [],
   "source": [
    "data = pd.concat([train_data, test_data])"
   ]
  },
  {
   "cell_type": "code",
   "execution_count": 31,
   "metadata": {},
   "outputs": [],
   "source": [
    "data = data.rename(columns={\"Normal/Attack\":\"label\"})\n",
    "# data.label[data.label!=\"Normal\"]=1\n",
    "# data.label[data.label==\"Normal\"]=0\n",
    "data.label = data['label'].map({\"Normal\": 0,\"Attack\": 1})\n"
   ]
  },
  {
   "cell_type": "code",
   "execution_count": 32,
   "metadata": {},
   "outputs": [],
   "source": [
    "data[\"Timestamp\"] = pd.to_datetime(data[\"Timestamp\"])\n",
    "data = data.set_index(\"Timestamp\")"
   ]
  },
  {
   "cell_type": "code",
   "execution_count": null,
   "metadata": {},
   "outputs": [],
   "source": []
  }
 ],
 "metadata": {
  "interpreter": {
   "hash": "c337f211ff313312c098220ab9601224a977cb1f4b25ff3b38adb39751bc68de"
  },
  "kernelspec": {
   "display_name": "Python 3.8.12 ('GANF')",
   "language": "python",
   "name": "python3"
  },
  "language_info": {
   "codemirror_mode": {
    "name": "ipython",
    "version": 3
   },
   "file_extension": ".py",
   "mimetype": "text/x-python",
   "name": "python",
   "nbconvert_exporter": "python",
   "pygments_lexer": "ipython3",
   "version": "3.8.12"
  },
  "orig_nbformat": 4
 },
 "nbformat": 4,
 "nbformat_minor": 2
}
